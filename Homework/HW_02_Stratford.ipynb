{
 "cells": [
  {
   "cell_type": "markdown",
   "id": "d3af3532-8731-4c3d-9f94-e36323f650d7",
   "metadata": {},
   "source": [
    "# DSCI 503 - Homework 02"
   ]
  },
  {
   "cell_type": "markdown",
   "id": "e43865e4-f4d3-42ca-b5f4-3f49d34e36db",
   "metadata": {},
   "source": [
    "### Nathan Stratford"
   ]
  },
  {
   "cell_type": "markdown",
   "id": "e6b9abd8-c04c-45a9-b731-dbe91a8b46b6",
   "metadata": {},
   "source": [
    "## Problem 1: Altering lists"
   ]
  },
  {
   "cell_type": "code",
   "execution_count": 4,
   "id": "b6d56fdd-5f40-465b-8158-b5d07eddedbb",
   "metadata": {},
   "outputs": [],
   "source": [
    "employees = [\"Beth\", \"Fred\", \"Drew\", \"Alex\", \"Emma\", \"Chad\"]\n",
    "years = [15, 11, 8, 5, 4, 2]"
   ]
  },
  {
   "cell_type": "code",
   "execution_count": 5,
   "id": "5c2452b5-c2de-46b9-8362-6001537db3c2",
   "metadata": {},
   "outputs": [
    {
     "name": "stdout",
     "output_type": "stream",
     "text": [
      "['Beth', 'Gina', 'Fred', 'Drew', 'Alex', 'Emma', 'Herb', 'Chad', 'Iris']\n",
      "[15, 12, 11, 8, 5, 4, 3, 2, 0]\n"
     ]
    }
   ],
   "source": [
    "employees.insert(1, \"Gina\")\n",
    "years.insert(1, 12)\n",
    "employees.insert(6, \"Herb\")\n",
    "years.insert(6, 3)\n",
    "employees.append(\"Iris\")\n",
    "years.append(0)\n",
    "print(employees)\n",
    "print(years)"
   ]
  },
  {
   "cell_type": "code",
   "execution_count": 6,
   "id": "b6c08588-20ed-42f6-8a05-0073a78085ca",
   "metadata": {},
   "outputs": [
    {
     "name": "stdout",
     "output_type": "stream",
     "text": [
      "['Beth', 'Gina', 'Drew', 'Emma', 'Alex', 'Herb', 'Chad', 'Iris']\n",
      "[15, 12, 8, 6, 5, 3, 2, 0]\n"
     ]
    }
   ],
   "source": [
    "employees.pop(2)\n",
    "years.pop(2)\n",
    "employees[3], employees[4] = employees[4], employees[3]\n",
    "years[4] = 6\n",
    "years[3], years[4] = years[4], years[3]\n",
    "print(employees)\n",
    "print(years)"
   ]
  },
  {
   "cell_type": "markdown",
   "id": "b9f35a64-cd95-4556-aea0-51fd83ae2349",
   "metadata": {},
   "source": [
    "## Problem 2: Sorting and Slicing Lists"
   ]
  },
  {
   "cell_type": "code",
   "execution_count": 8,
   "id": "68d91995-5942-4189-bb67-daf8620d5e92",
   "metadata": {},
   "outputs": [],
   "source": [
    "import random \n",
    "random.seed(12) \n",
    "random_list = random.sample(range(500), 99)"
   ]
  },
  {
   "cell_type": "code",
   "execution_count": 9,
   "id": "d40a39ad-3151-445f-a7c7-67f9eabc8516",
   "metadata": {},
   "outputs": [
    {
     "name": "stdout",
     "output_type": "stream",
     "text": [
      "Length of random_list: 99\n",
      "First 10 Elements of random_list: [242, 137, 336, 270, 341, 179, 73, 195, 5, 191]\n"
     ]
    }
   ],
   "source": [
    "print(\"Length of random_list: \" + str(len(random_list)))\n",
    "print(\"First 10 Elements of random_list: \" + str(random_list[:10]))"
   ]
  },
  {
   "cell_type": "code",
   "execution_count": 10,
   "id": "bd5ce8c6-2c14-4595-a275-af7116c92272",
   "metadata": {},
   "outputs": [
    {
     "name": "stdout",
     "output_type": "stream",
     "text": [
      "The sum of the elements in random list is 23739\n"
     ]
    }
   ],
   "source": [
    "print(\"The sum of the elements in random list is \" + str(sum(random_list)))"
   ]
  },
  {
   "cell_type": "code",
   "execution_count": 11,
   "id": "fa261c24-a5b6-45ab-b2f5-721a8a68a4a2",
   "metadata": {},
   "outputs": [
    {
     "name": "stdout",
     "output_type": "stream",
     "text": [
      "First 10 Elements of sorted_list: [0, 5, 9, 15, 26, 30, 31, 38, 42, 44]\n",
      "First 10 Elements of random_list: [242, 137, 336, 270, 341, 179, 73, 195, 5, 191]\n"
     ]
    }
   ],
   "source": [
    "sorted_list = sorted(random_list)\n",
    "print(\"First 10 Elements of sorted_list: \" + str(sorted_list[:10]))\n",
    "print(\"First 10 Elements of random_list: \" + str(random_list[:10]))"
   ]
  },
  {
   "cell_type": "code",
   "execution_count": 12,
   "id": "2c9c7ffe-dad2-41a5-bac3-99cb684e749b",
   "metadata": {},
   "outputs": [
    {
     "name": "stdout",
     "output_type": "stream",
     "text": [
      "The smallest element of bot_slice is 0.\n",
      "\n",
      "The largest element of bot_slice is 173.\n",
      "\n",
      "The smallest element of mid_slice is 179.\n",
      "\n",
      "The largest element of mid_slice is 311.\n",
      "\n",
      "The smallest element of top_slice is 318.\n",
      "\n",
      "The largest element of top_slice is 484.\n",
      "\n"
     ]
    }
   ],
   "source": [
    "bot_slice = sorted_list[:33] \n",
    "mid_slice = sorted_list[33:66]\n",
    "top_slice = sorted_list[66:]\n",
    "print(\"The smallest element of bot_slice is \" + str(min(bot_slice)) + \".\\n\")\n",
    "print(\"The largest element of bot_slice is \" + str(max(bot_slice)) + \".\\n\")\n",
    "print(\"The smallest element of mid_slice is \" + str(min(mid_slice)) + \".\\n\")\n",
    "print(\"The largest element of mid_slice is \" + str(max(mid_slice)) + \".\\n\")\n",
    "print(\"The smallest element of top_slice is \" + str(min(top_slice)) + \".\\n\")\n",
    "print(\"The largest element of top_slice is \" + str(max(top_slice)) + \".\\n\")"
   ]
  },
  {
   "cell_type": "markdown",
   "id": "e1a60a4b-398a-4179-a313-3af7e9ad22ed",
   "metadata": {},
   "source": [
    "## Problem 3: Calculating Sum of Squared Errors"
   ]
  },
  {
   "cell_type": "code",
   "execution_count": 14,
   "id": "75486554-60b2-4c28-a363-6ceb0504c4cc",
   "metadata": {},
   "outputs": [],
   "source": [
    "length = [22.7, 22.4, 25.8, 21.3, 20.1, 22.1, 21.1, 25.3, 26.9, 26.9, \n",
    "23.0, 23.8, 26.2, 20.4, 23.0, 21.9, 23.5, 27.8, 25.3, 25.9]\n",
    "weight = [9.2, 8.8, 10.7,  8.3, 6.2, 8.6, 7.2, 11.2, 10.5, 11.3,  \n",
    "9.6, 9.9, 10.9,  5.9, 9.5, 9.1, 9.7, 11.6, 10.2, 10.5] "
   ]
  },
  {
   "cell_type": "code",
   "execution_count": 15,
   "id": "f3a75582-8d98-4565-98af-9aaceb26876b",
   "metadata": {},
   "outputs": [
    {
     "name": "stdout",
     "output_type": "stream",
     "text": [
      "[8.42, 8.24, 10.28, 7.58, 6.86, 8.06, 7.46, 9.98, 10.94, 10.94, 8.6, 9.08, 10.52, 7.04, 8.6, 7.94, 8.9, 11.48, 9.98, 10.34]\n"
     ]
    }
   ],
   "source": [
    "pred_weight = []\n",
    "def getWeight(length):\n",
    "    return round(((0.6 * length) - 5.2), 2)\n",
    "for i in length:\n",
    "    pred_weight.append(getWeight(i))\n",
    "print(pred_weight)"
   ]
  },
  {
   "cell_type": "code",
   "execution_count": 16,
   "id": "ca9a814e-a9c2-4ec7-b458-4f971ab88465",
   "metadata": {},
   "outputs": [
    {
     "name": "stdout",
     "output_type": "stream",
     "text": [
      "10.2236\n"
     ]
    }
   ],
   "source": [
    "result = sum([(max(a, b) - min(a, b)) ** 2 for a, b in zip(weight, pred_weight)])\n",
    "print(f\"{result:.4f}\")"
   ]
  },
  {
   "cell_type": "markdown",
   "id": "26db7355-4766-483f-9ddb-1dc549995f9b",
   "metadata": {},
   "source": [
    "## Problem 4: Calculating Exam Scores"
   ]
  },
  {
   "cell_type": "code",
   "execution_count": 18,
   "id": "c6126518-1558-4f06-af30-6369401af9a0",
   "metadata": {},
   "outputs": [
    {
     "name": "stdout",
     "output_type": "stream",
     "text": [
      "Student 1 Grade: 64.0%\n",
      "Student 2 Grade: 84.0%\n"
     ]
    }
   ],
   "source": [
    "correct = ['D', 'B', 'C', 'A', 'C', 'D', 'A', 'C', 'C', 'B', 'D', 'A', 'B', 'D', 'C', 'D', 'C', 'D', 'C', 'A', 'B', 'D', 'C', 'B', 'A']\n",
    "answers1 = ['A', 'B', 'C', 'A', 'B', 'D', 'A', 'A', 'C', 'B', 'D', 'A', 'D', 'C', 'C', 'B', 'C', 'D', 'B', 'A', 'D', 'D', 'C', 'C', 'A']\n",
    "answers2 = ['D', 'A', 'C', 'A', 'B', 'D', 'A', 'C', 'C', 'B', 'D', 'A', 'B', 'D', 'A', 'D', 'C', 'D', 'C', 'A', 'B', 'C', 'C', 'B', 'A']\n",
    "count1 = 0\n",
    "count2 = 0\n",
    "count3 = 0\n",
    "for i in range(len(correct)):\n",
    "    if answers1[i] == correct[i]:\n",
    "        count1 += 1\n",
    "    if answers2[i] == correct[i]:\n",
    "        count2 += 1\n",
    "grade1 = (count1 / 25) * 100\n",
    "grade2 = (count2 / 25) * 100\n",
    "print(\"Student 1 Grade: \" + str(grade1) + \"%\")\n",
    "print(\"Student 2 Grade: \" + str(grade2) + \"%\")"
   ]
  },
  {
   "cell_type": "markdown",
   "id": "69d2694c-6063-4801-b7fe-34df68e21cfd",
   "metadata": {},
   "source": [
    "## Problem 5: Determining Monthly Payments"
   ]
  },
  {
   "cell_type": "code",
   "execution_count": 20,
   "id": "6abe2a42-f46c-4933-88c5-4850d47772cc",
   "metadata": {},
   "outputs": [
    {
     "name": "stdout",
     "output_type": "stream",
     "text": [
      "A loan of $100000 would require monthly payments of $524.67.\n",
      "A loan of $110000 would require monthly payments of $577.13.\n",
      "A loan of $120000 would require monthly payments of $629.6.\n",
      "A loan of $130000 would require monthly payments of $682.06.\n",
      "A loan of $140000 would require monthly payments of $734.53.\n",
      "A loan of $150000 would require monthly payments of $787.0.\n",
      "A loan of $160000 would require monthly payments of $839.46.\n",
      "A loan of $170000 would require monthly payments of $891.93.\n",
      "A loan of $180000 would require monthly payments of $944.4.\n",
      "A loan of $190000 would require monthly payments of $996.86.\n",
      "A loan of $200000 would require monthly payments of $1049.33.\n"
     ]
    }
   ],
   "source": [
    "i = 0.004\n",
    "n = 360\n",
    "start = 100000\n",
    "end = 200000\n",
    "increment = 10000\n",
    "for x in range(start, end + increment, increment):\n",
    "    payment = x * (i / (1 - (1 + i) ** (-1 * n)))\n",
    "    print(f\"A loan of ${x} would require monthly payments of ${round(payment, 2)}.\")\n",
    "    "
   ]
  },
  {
   "cell_type": "markdown",
   "id": "74d22aa3-de22-4b80-9569-cc1693706b66",
   "metadata": {},
   "source": [
    "## Problem 7: Calculating Price of a Bulk Order"
   ]
  },
  {
   "cell_type": "code",
   "execution_count": 22,
   "id": "e13bd6f7-6dae-470a-b2c0-37aef29dfae6",
   "metadata": {},
   "outputs": [
    {
     "name": "stdout",
     "output_type": "stream",
     "text": [
      "The cost for an order of 84 widgets is $29400\n",
      "The cost for an order of 100 widgets is $35000\n",
      "The cost for an order of 126 widgets is $42800\n",
      "The cost for an order of 150 widgets is $50000\n",
      "The cost for an order of 186 widgets is $60800\n",
      "The cost for an order of 200 widgets is $65000\n",
      "The cost for an order of 216 widgets is $69000\n",
      "The cost for an order of 248 widgets is $77000\n"
     ]
    }
   ],
   "source": [
    "quantities = [84, 100, 126, 150, 186, 200, 216, 248]\n",
    "for i in quantities:\n",
    "    cost = 0\n",
    "    if i < 100:\n",
    "        cost = i * 350\n",
    "    elif i < 200:\n",
    "        cost = (100 * 350) + ((i - 100) * 300)\n",
    "    else:\n",
    "        bulk1 = 350 * 100\n",
    "        bulk2 = 300 * 100\n",
    "        cost = bulk1 + bulk2 + ((i - 200) * 250)\n",
    "    print(\"The cost for an order of \" + str(i) + \" widgets is $\" + str(cost))"
   ]
  },
  {
   "cell_type": "code",
   "execution_count": 39,
   "id": "3dfdda8c-ca93-4ac0-bd1a-9f4c86aa09a4",
   "metadata": {},
   "outputs": [
    {
     "name": "stdout",
     "output_type": "stream",
     "text": [
      "[[48, 72, 71, 43, 72], [65, 65, 65, 33, 44], [73, 68, 55, 41, 41]]\n"
     ]
    }
   ],
   "source": [
    "A = [[13, 43, 28, 22, 41], [17, 39, 46, 16, 21], [41, 34, 31, 25, 14]]\n",
    "B = [[35, 29, 43, 21, 31], [48, 26, 19, 17, 23], [32, 34, 24, 16, 27]]\n",
    "AplusB = []\n",
    "for i in range(len(A)):\n",
    "    AplusB.append([0] * len(A[0]))\n",
    "for i in range(len(A)):\n",
    "    for j in range(len(A[i])):\n",
    "        AplusB[i][j] = (A[i][j] + B[i][j])\n",
    "print(AplusB)\n",
    "        \n",
    "        "
   ]
  }
 ],
 "metadata": {
  "kernelspec": {
   "display_name": "Python 3 (ipykernel)",
   "language": "python",
   "name": "python3"
  },
  "language_info": {
   "codemirror_mode": {
    "name": "ipython",
    "version": 3
   },
   "file_extension": ".py",
   "mimetype": "text/x-python",
   "name": "python",
   "nbconvert_exporter": "python",
   "pygments_lexer": "ipython3",
   "version": "3.12.4"
  }
 },
 "nbformat": 4,
 "nbformat_minor": 5
}
