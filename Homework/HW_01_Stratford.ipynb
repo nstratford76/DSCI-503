{
 "cells": [
  {
   "cell_type": "markdown",
   "id": "6f3cf94b-7c25-4938-a882-4def1bfa58dc",
   "metadata": {},
   "source": [
    "# DSCI 503 - Homework 01\n",
    "### Nathan Stratford"
   ]
  },
  {
   "cell_type": "markdown",
   "id": "80360527-f5e3-4a1d-8629-32df9eb55775",
   "metadata": {},
   "source": [
    "## Problem 1: Arithmetic and Geometric Means"
   ]
  },
  {
   "cell_type": "code",
   "execution_count": 3,
   "id": "138efc19-8ee3-41a4-8ed2-01c1322d7123",
   "metadata": {},
   "outputs": [
    {
     "name": "stdout",
     "output_type": "stream",
     "text": [
      "Sum:             59\n",
      "Product:         42636\n",
      "Arithmetic Mean: 14.75\n",
      "Geometric Mean:  14.37\n"
     ]
    }
   ],
   "source": [
    "# Define x variables\n",
    "x0 = 11\n",
    "x1 = 12\n",
    "x2 = 17\n",
    "x3 = 19\n",
    "# Get the total, product, arith_mean, and geom_mean\n",
    "total = x0 + x1 + x2 + x3\n",
    "product = x0 * x1 * x2 * x3\n",
    "arith_mean = total / 4\n",
    "geom_mean = product ** (1/4)\n",
    "# Print the results\n",
    "print(f\"Sum:             {total}\")\n",
    "print(f\"Product:         {product}\")\n",
    "print(f\"Arithmetic Mean: {arith_mean:.2f}\")\n",
    "print(f\"Geometric Mean:  {geom_mean:.2f}\")\n"
   ]
  },
  {
   "cell_type": "markdown",
   "id": "ce313326-54f8-480b-a9bf-66d8f3c4b765",
   "metadata": {},
   "source": [
    "## Problem 2: Calculating Bill"
   ]
  },
  {
   "cell_type": "code",
   "execution_count": 5,
   "id": "897c6a0c-f36e-4aac-b86a-67572e6cc351",
   "metadata": {},
   "outputs": [
    {
     "name": "stdout",
     "output_type": "stream",
     "text": [
      "2 Side Salads:   $7.90\n",
      "2 Hamburgers:   $17.90\n",
      "2 Diet Sodas:    $5.00\n",
      "----------------------\n",
      "Subtotal:       $30.80\n",
      "Tax (4.75%):     $1.46\n",
      "Tip (15%):       $4.62\n",
      "----------------------\n",
      "Total Charge:   $36.88\n"
     ]
    }
   ],
   "source": [
    "#Define the costs\n",
    "ss_cost = 3.95 * 2\n",
    "hb_cost = 8.95 * 2\n",
    "ds_cost = 2.50 * 2\n",
    "#Calculate subtotal, tax, tip, and total charge\n",
    "subtotal = ss_cost + hb_cost + ds_cost\n",
    "tax = round((subtotal * 0.0475), 2)\n",
    "tip = round((subtotal * 0.15), 2)\n",
    "total_charge = subtotal + tax + tip\n",
    "# Print the results\n",
    "print(f\"2 Side Salads:   ${ss_cost:.2f}\")\n",
    "print(f\"2 Hamburgers:   ${hb_cost:.2f}\")\n",
    "print(f\"2 Diet Sodas:    ${ds_cost:.2f}\")\n",
    "print(\"----------------------\")\n",
    "print(f\"Subtotal:       ${subtotal:.2f}\")\n",
    "print(f\"Tax (4.75%):     ${tax:.2f}\")\n",
    "print(f\"Tip (15%):       ${tip:.2f}\")\n",
    "print(\"----------------------\")\n",
    "print(f\"Total Charge:   ${total_charge:.2f}\")"
   ]
  },
  {
   "cell_type": "markdown",
   "id": "5891f2e8-8b7d-417d-a786-ab74ee4aa3da",
   "metadata": {},
   "source": [
    "## Problem 3: Volume of a Sphere"
   ]
  },
  {
   "cell_type": "code",
   "execution_count": 7,
   "id": "5d2f58f9-82c9-44cf-a027-e862ee3b141d",
   "metadata": {},
   "outputs": [
    {
     "name": "stdout",
     "output_type": "stream",
     "text": [
      "The volume of a sphere with radius 4.6 is equal to 407.720\n",
      "The volume of a sphere with radius 7.2 is equal to 1563.456\n",
      "The volume of a sphere with radius 9.7 is equal to 3822.992\n"
     ]
    }
   ],
   "source": [
    "pi = 3.14159\n",
    "r1 = 4.6\n",
    "r2 = 7.2\n",
    "r3 = 9.7\n",
    "v1 = (4/3) * pi * (r1 ** 3)\n",
    "v2 = (4/3) * pi * (r2 ** 3)\n",
    "v3 = (4/3) * pi * (r3 ** 3)\n",
    "print(f\"The volume of a sphere with radius {r1} is equal to {v1:.3f}\")\n",
    "print(f\"The volume of a sphere with radius {r2} is equal to {v2:.3f}\")\n",
    "print(f\"The volume of a sphere with radius {r3} is equal to {v3:.3f}\")"
   ]
  },
  {
   "cell_type": "markdown",
   "id": "7e4595b7-388b-477d-9090-f1a50d9c7df1",
   "metadata": {},
   "source": [
    "## Problem 4: Simple Interest"
   ]
  },
  {
   "cell_type": "code",
   "execution_count": 9,
   "id": "afe9474b-5bc3-41e0-983a-ecf9d76355f8",
   "metadata": {},
   "outputs": [
    {
     "name": "stdout",
     "output_type": "stream",
     "text": [
      "Amount repaid: $225.75\n"
     ]
    }
   ],
   "source": [
    "p = 210\n",
    "i = 0.09\n",
    "t = 10/12\n",
    "A = p * (1 + (i * t))\n",
    "print(\"Amount repaid: $\" + str(A))"
   ]
  },
  {
   "cell_type": "markdown",
   "id": "3b7c0952-5cfd-435a-95b8-a1551d7a2975",
   "metadata": {},
   "source": [
    "## Problem 5: Compound Interest"
   ]
  },
  {
   "cell_type": "code",
   "execution_count": 11,
   "id": "426aed00-815d-46a1-ad9f-531fae190c88",
   "metadata": {},
   "outputs": [
    {
     "name": "stdout",
     "output_type": "stream",
     "text": [
      "Amount repaid: $463.05\n"
     ]
    }
   ],
   "source": [
    "P = 400\n",
    "i = 0.05 \n",
    "t = 3\n",
    "A = round((P * ((1 + i) ** t)), 2)\n",
    "print(\"Amount repaid: $\" + str(A))"
   ]
  },
  {
   "cell_type": "markdown",
   "id": "b209de03-ed5d-4755-b2ca-6db0ca8b5e92",
   "metadata": {},
   "source": [
    "## Problem 6: Annuity"
   ]
  },
  {
   "cell_type": "code",
   "execution_count": 13,
   "id": "d2c8d5f4-32f3-49c7-9e34-81e6c4ffd50e",
   "metadata": {},
   "outputs": [
    {
     "name": "stdout",
     "output_type": "stream",
     "text": [
      "Balance after 18 years: $51290.83\n"
     ]
    }
   ],
   "source": [
    "PMT = 2000\n",
    "i = 0.04\n",
    "n = 18\n",
    "x = ((1 + i) ** n) - 1\n",
    "A = round((PMT * (x / i)), 2)\n",
    "print(\"Balance after 18 years: $\" + str(A))\n"
   ]
  },
  {
   "cell_type": "markdown",
   "id": "88f2c643-aa70-47d5-a343-47cf6f73ce0a",
   "metadata": {},
   "source": [
    "## Problem 7: Probability"
   ]
  },
  {
   "cell_type": "code",
   "execution_count": 15,
   "id": "c210e888-4223-4e4c-81c3-6c8ce0471417",
   "metadata": {},
   "outputs": [
    {
     "name": "stdout",
     "output_type": "stream",
     "text": [
      "Probability that both are late:               0.18\n",
      "Probability that at least one person is late: 0.72\n"
     ]
    }
   ],
   "source": [
    "prob_A = 0.6\n",
    "prob_B = 0.3\n",
    "#Probability that both are late\n",
    "prob_A_and_B = prob_A * prob_B\n",
    "prob_A_or_B = (prob_A + prob_B) - prob_A_and_B\n",
    "print(\"Probability that both are late:               \" + str(prob_A_and_B))\n",
    "print(\"Probability that at least one person is late: \" + str(prob_A_or_B))"
   ]
  },
  {
   "cell_type": "markdown",
   "id": "a613d529-3bf5-407f-b65d-560a53a69083",
   "metadata": {},
   "source": [
    "## Problem 8: Constructing an Output Message"
   ]
  },
  {
   "cell_type": "code",
   "execution_count": 17,
   "id": "823c152b-b736-4a74-b44e-0ed6821c45d7",
   "metadata": {},
   "outputs": [
    {
     "name": "stdout",
     "output_type": "stream",
     "text": [
      "First Name: Nathan\n",
      "Last Name:  Stratford\n",
      "Student ID: 1156963\n"
     ]
    }
   ],
   "source": [
    "first = \"Nathan\"\n",
    "last = \"Stratford\"\n",
    "sid = 1156963\n",
    "msg = \"First Name: \" + first + \"\\n\" + \"Last Name:  \" + last + \"\\n\" + \"Student ID: \" + str(sid)\n",
    "print(msg)"
   ]
  }
 ],
 "metadata": {
  "kernelspec": {
   "display_name": "Python 3 (ipykernel)",
   "language": "python",
   "name": "python3"
  },
  "language_info": {
   "codemirror_mode": {
    "name": "ipython",
    "version": 3
   },
   "file_extension": ".py",
   "mimetype": "text/x-python",
   "name": "python",
   "nbconvert_exporter": "python",
   "pygments_lexer": "ipython3",
   "version": "3.12.4"
  }
 },
 "nbformat": 4,
 "nbformat_minor": 5
}
