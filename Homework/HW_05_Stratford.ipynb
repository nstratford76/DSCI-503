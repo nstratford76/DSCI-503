{
 "cells": [
  {
   "cell_type": "markdown",
   "metadata": {},
   "source": [
    "# DSCI 503 - Homework 05\n",
    "### Nathan Stratford"
   ]
  },
  {
   "cell_type": "code",
   "execution_count": 17,
   "metadata": {},
   "outputs": [],
   "source": [
    "import numpy as np\n",
    "import pandas as pd\n",
    "import matplotlib.pyplot as plt"
   ]
  },
  {
   "cell_type": "code",
   "execution_count": 2,
   "metadata": {},
   "outputs": [
    {
     "name": "stdout",
     "output_type": "stream",
     "text": [
      "[[4.17 7.2  0.   3.02 1.47 0.92 1.86 3.46]\n",
      " [3.97 5.39 4.19 6.85 2.04 8.78 0.27 6.7 ]\n",
      " [4.17 5.59 1.4  1.98 8.01 9.68 3.13 6.92]\n",
      " [8.76 8.95 0.85 0.39 1.7  8.78 0.98 4.21]\n",
      " [9.58 5.33 6.92 3.16 6.87 8.35 0.18 7.5 ]]\n"
     ]
    }
   ],
   "source": [
    "np.random.seed(1)\n",
    "Z = np.random.uniform(0, 10, (5, 8))\n",
    "Z = np.round(Z, 2)\n",
    "print(Z)"
   ]
  },
  {
   "cell_type": "code",
   "execution_count": 4,
   "metadata": {},
   "outputs": [
    {
     "name": "stdout",
     "output_type": "stream",
     "text": [
      "Row 3: [4.17 5.59 1.4  1.98 8.01 9.68 3.13 6.92]\n",
      "Column 6: 9.68\n"
     ]
    }
   ],
   "source": [
    "print(f\"Row 3: {Z[2]}\")\n",
    "print(f\"Column 6: {Z[2][5]}\")"
   ]
  },
  {
   "cell_type": "code",
   "execution_count": 5,
   "metadata": {},
   "outputs": [
    {
     "name": "stdout",
     "output_type": "stream",
     "text": [
      "Row Sums:\n",
      "[22.1  38.19 40.88 34.62 47.89]\n",
      "Column Sums: [30.65 32.46 13.36 15.4  20.09 36.51  6.42 28.79]\n",
      "Array Sum: 183.68\n"
     ]
    }
   ],
   "source": [
    "row_sums = np.sum(Z, axis=1)\n",
    "col_sums = np.sum(Z, axis=0)\n",
    "array_sum = np.sum(Z)\n",
    "print(\"Row Sums:\")\n",
    "print(row_sums)\n",
    "print(\"Column Sums:\", col_sums)\n",
    "print(\"Array Sum:\", array_sum)"
   ]
  },
  {
   "cell_type": "markdown",
   "metadata": {},
   "source": [
    "## Problem 2: Reshaping and Stacking Arrays"
   ]
  },
  {
   "cell_type": "code",
   "execution_count": 7,
   "metadata": {},
   "outputs": [
    {
     "name": "stdout",
     "output_type": "stream",
     "text": [
      "(1000, 4)\n",
      "[[ 37.08  16.71 138.06   8.89]\n",
      " [ 41.32  19.91  99.61   9.86]\n",
      " [ 63.15  14.43  70.08  11.6 ]\n",
      " ...\n",
      " [ 36.96  16.05  81.28   9.9 ]\n",
      " [ 43.57  18.36 105.02  11.93]\n",
      " [ 65.06  21.47 136.37  11.84]]\n"
     ]
    }
   ],
   "source": [
    "np.random.seed(167)\n",
    "x1 = np.random.normal(50, 10, 1000)  \n",
    "x2 = np.random.normal(20, 5, 1000) \n",
    "x3 = np.random.normal(100, 30, 1000)\n",
    "x4 = np.random.normal(10, 2, 1000)   \n",
    "X = np.hstack([x1.reshape(-1, 1), x2.reshape(-1, 1), x3.reshape(-1, 1), x4.reshape(-1, 1)])\n",
    "X = np.round(X, 2)\n",
    "print(X.shape)"
   ]
  },
  {
   "cell_type": "code",
   "execution_count": 8,
   "metadata": {},
   "outputs": [
    {
     "name": "stdout",
     "output_type": "stream",
     "text": [
      "[[ 37.08  16.71 138.06   8.89]\n",
      " [ 41.32  19.91  99.61   9.86]\n",
      " [ 63.15  14.43  70.08  11.6 ]\n",
      " [ 50.03  12.71  95.05   8.47]\n",
      " [ 55.05  24.4   62.16   9.49]\n",
      " [ 59.24  25.68  64.57  12.84]]\n"
     ]
    }
   ],
   "source": [
    "print(X[:6])"
   ]
  },
  {
   "cell_type": "markdown",
   "metadata": {},
   "source": [
    "# Problem 3: Standardization"
   ]
  },
  {
   "cell_type": "code",
   "execution_count": 14,
   "metadata": {},
   "outputs": [
    {
     "name": "stdout",
     "output_type": "stream",
     "text": [
      "Column means:\n",
      "[50.21 19.86 99.84 10.06]\n",
      "Column standard deviations:\n",
      "[ 9.69  5.08 30.88  2.03]\n"
     ]
    }
   ],
   "source": [
    "col_mean_array = np.mean(X, axis=0)\n",
    "col_std_devs_array = np.std(X, axis=0)\n",
    "print(\"Column means:\")\n",
    "print(np.round(col_mean_array, 2))\n",
    "print(\"Column standard deviations:\")\n",
    "print(np.round(col_std_devs_array, 2))"
   ]
  },
  {
   "cell_type": "code",
   "execution_count": 16,
   "metadata": {},
   "outputs": [
    {
     "name": "stdout",
     "output_type": "stream",
     "text": [
      "Column means:\n",
      "[ 0. -0. -0. -0.]\n",
      "Column standard deviations:\n",
      "[1. 1. 1. 1.]\n"
     ]
    }
   ],
   "source": [
    "W = (X - col_mean_array) / col_std_devs_array\n",
    "W_col_mean = np.mean(W, axis=0)\n",
    "W_col_std_dev = np.std(W, axis=0)\n",
    "print(\"Column means:\")\n",
    "print(np.round(W_col_mean, 2))\n",
    "print(\"Column standard deviations:\")\n",
    "print(np.round(W_col_std_dev, 2))"
   ]
  },
  {
   "cell_type": "markdown",
   "metadata": {},
   "source": [
    "## Problem 4: Load Auto MPG Dataset"
   ]
  },
  {
   "cell_type": "code",
   "execution_count": 24,
   "metadata": {},
   "outputs": [
    {
     "data": {
      "text/plain": [
       "<bound method DataFrame.mean of       mpg  cyl    wt region                      model\n",
       "0    27.2    4  3190    eur                peugeot 504\n",
       "1    32.8    4  1985   asia           mazda glc deluxe\n",
       "2    18.1    6  3410    usa            amc concord d/l\n",
       "3    17.5    8  4080    usa            dodge magnum xe\n",
       "4    25.4    5  3530    eur         mercedes benz 300d\n",
       "..    ...  ...   ...    ...                        ...\n",
       "393  22.0    6  2835    usa             ford granada l\n",
       "394  27.0    4  2790    usa            ford mustang gl\n",
       "395  24.5    4  2740    usa      pontiac sunbird coupe\n",
       "396  18.0    8  3504    usa  chevrolet chevelle malibu\n",
       "397  32.4    4  2290   asia               honda accord\n",
       "\n",
       "[398 rows x 5 columns]>"
      ]
     },
     "execution_count": 24,
     "metadata": {},
     "output_type": "execute_result"
    }
   ],
   "source": [
    "auto = pd.read_csv('auto_mpg.txt', sep='\\t')\n",
    "auto.head(10)\n",
    "auto.shape\n",
    "auto.mean"
   ]
  },
  {
   "cell_type": "markdown",
   "metadata": {},
   "source": [
    "## Problem 5: Regional Counts and Means"
   ]
  },
  {
   "cell_type": "code",
   "execution_count": 27,
   "metadata": {},
   "outputs": [
    {
     "name": "stdout",
     "output_type": "stream",
     "text": [
      "['asia' 'eur' 'usa']\n",
      "Number of cars manufactured in Asia:   79        \n",
      "Number of cars manufactured in Europe: 70        \n",
      "Number of cars manufactured in USA:    249       \n"
     ]
    }
   ],
   "source": [
    "regions = np.unique(auto['region'])\n",
    "print(regions)\n",
    "asia_auto = auto[auto['region'] == 'asia']\n",
    "eur_auto = auto[auto['region'] == 'eur']\n",
    "usa_auto = auto[auto['region'] == 'usa']\n",
    "print(f\"Number of cars manufactured in Asia:   {len(asia_auto):<10}\")\n",
    "print(f\"Number of cars manufactured in Europe: {len(eur_auto):<10}\")\n",
    "print(f\"Number of cars manufactured in USA:    {len(usa_auto):<10}\")\n"
   ]
  },
  {
   "cell_type": "code",
   "execution_count": 32,
   "metadata": {},
   "outputs": [
    {
     "name": "stderr",
     "output_type": "stream",
     "text": [
      "C:\\Users\\Customer\\AppData\\Local\\Temp\\ipykernel_4644\\550028605.py:5: FutureWarning: Series.__getitem__ treating keys as positions is deprecated. In a future version, integer keys will always be treated as labels (consistent with DataFrame behavior). To access a value by position, use `ser.iloc[pos]`\n",
      "  'mpg': [asia_means[0], eur_means[0], usa_means[0]],\n",
      "C:\\Users\\Customer\\AppData\\Local\\Temp\\ipykernel_4644\\550028605.py:6: FutureWarning: Series.__getitem__ treating keys as positions is deprecated. In a future version, integer keys will always be treated as labels (consistent with DataFrame behavior). To access a value by position, use `ser.iloc[pos]`\n",
      "  'cyl': [asia_means[1], eur_means[1], usa_means[1]],\n",
      "C:\\Users\\Customer\\AppData\\Local\\Temp\\ipykernel_4644\\550028605.py:7: FutureWarning: Series.__getitem__ treating keys as positions is deprecated. In a future version, integer keys will always be treated as labels (consistent with DataFrame behavior). To access a value by position, use `ser.iloc[pos]`\n",
      "  'wt': [asia_means[2], eur_means[2], usa_means[2]]\n"
     ]
    },
    {
     "data": {
      "text/html": [
       "<div>\n",
       "<style scoped>\n",
       "    .dataframe tbody tr th:only-of-type {\n",
       "        vertical-align: middle;\n",
       "    }\n",
       "\n",
       "    .dataframe tbody tr th {\n",
       "        vertical-align: top;\n",
       "    }\n",
       "\n",
       "    .dataframe thead th {\n",
       "        text-align: right;\n",
       "    }\n",
       "</style>\n",
       "<table border=\"1\" class=\"dataframe\">\n",
       "  <thead>\n",
       "    <tr style=\"text-align: right;\">\n",
       "      <th></th>\n",
       "      <th>mpg</th>\n",
       "      <th>cyl</th>\n",
       "      <th>wt</th>\n",
       "    </tr>\n",
       "  </thead>\n",
       "  <tbody>\n",
       "    <tr>\n",
       "      <th>asia</th>\n",
       "      <td>30.450633</td>\n",
       "      <td>4.101266</td>\n",
       "      <td>2221.227848</td>\n",
       "    </tr>\n",
       "    <tr>\n",
       "      <th>eur</th>\n",
       "      <td>27.891429</td>\n",
       "      <td>4.157143</td>\n",
       "      <td>2423.300000</td>\n",
       "    </tr>\n",
       "    <tr>\n",
       "      <th>usa</th>\n",
       "      <td>20.083534</td>\n",
       "      <td>6.248996</td>\n",
       "      <td>3361.931727</td>\n",
       "    </tr>\n",
       "  </tbody>\n",
       "</table>\n",
       "</div>"
      ],
      "text/plain": [
       "            mpg       cyl           wt\n",
       "asia  30.450633  4.101266  2221.227848\n",
       "eur   27.891429  4.157143  2423.300000\n",
       "usa   20.083534  6.248996  3361.931727"
      ]
     },
     "execution_count": 32,
     "metadata": {},
     "output_type": "execute_result"
    }
   ],
   "source": [
    "asia_means = np.mean(asia_auto[['mpg', 'cyl', 'wt']], axis=0)\n",
    "eur_means = np.mean(eur_auto[['mpg', 'cyl', 'wt']], axis=0)\n",
    "usa_means = np.mean(usa_auto[['mpg', 'cyl', 'wt']], axis=0)\n",
    "mean_df = pd.DataFrame({\n",
    "    'mpg': [asia_means[0], eur_means[0], usa_means[0]],\n",
    "    'cyl': [asia_means[1], eur_means[1], usa_means[1]],\n",
    "    'wt': [asia_means[2], eur_means[2], usa_means[2]]\n",
    "}, index=['asia', 'eur', 'usa'])\n",
    "mean_df"
   ]
  }
 ],
 "metadata": {
  "kernelspec": {
   "display_name": "base",
   "language": "python",
   "name": "python3"
  },
  "language_info": {
   "codemirror_mode": {
    "name": "ipython",
    "version": 3
   },
   "file_extension": ".py",
   "mimetype": "text/x-python",
   "name": "python",
   "nbconvert_exporter": "python",
   "pygments_lexer": "ipython3",
   "version": "3.12.4"
  }
 },
 "nbformat": 4,
 "nbformat_minor": 2
}
