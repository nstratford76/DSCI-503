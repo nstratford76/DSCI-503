{
 "cells": [
  {
   "cell_type": "markdown",
   "metadata": {},
   "source": [
    "# DSCI 503 - Homework 05\n",
    "### Nathan Stratford"
   ]
  },
  {
   "cell_type": "code",
   "execution_count": 17,
   "metadata": {},
   "outputs": [],
   "source": [
    "import numpy as np\n",
    "import pandas as pd\n",
    "import matplotlib.pyplot as plt"
   ]
  },
  {
   "cell_type": "code",
   "execution_count": 2,
   "metadata": {},
   "outputs": [
    {
     "name": "stdout",
     "output_type": "stream",
     "text": [
      "[[4.17 7.2  0.   3.02 1.47 0.92 1.86 3.46]\n",
      " [3.97 5.39 4.19 6.85 2.04 8.78 0.27 6.7 ]\n",
      " [4.17 5.59 1.4  1.98 8.01 9.68 3.13 6.92]\n",
      " [8.76 8.95 0.85 0.39 1.7  8.78 0.98 4.21]\n",
      " [9.58 5.33 6.92 3.16 6.87 8.35 0.18 7.5 ]]\n"
     ]
    }
   ],
   "source": [
    "np.random.seed(1)\n",
    "Z = np.random.uniform(0, 10, (5, 8))\n",
    "Z = np.round(Z, 2)\n",
    "print(Z)"
   ]
  },
  {
   "cell_type": "code",
   "execution_count": 4,
   "metadata": {},
   "outputs": [
    {
     "name": "stdout",
     "output_type": "stream",
     "text": [
      "Row 3: [4.17 5.59 1.4  1.98 8.01 9.68 3.13 6.92]\n",
      "Column 6: 9.68\n"
     ]
    }
   ],
   "source": [
    "print(f\"Row 3: {Z[2]}\")\n",
    "print(f\"Column 6: {Z[2][5]}\")"
   ]
  },
  {
   "cell_type": "code",
   "execution_count": 5,
   "metadata": {},
   "outputs": [
    {
     "name": "stdout",
     "output_type": "stream",
     "text": [
      "Row Sums:\n",
      "[22.1  38.19 40.88 34.62 47.89]\n",
      "Column Sums: [30.65 32.46 13.36 15.4  20.09 36.51  6.42 28.79]\n",
      "Array Sum: 183.68\n"
     ]
    }
   ],
   "source": [
    "row_sums = np.sum(Z, axis=1)\n",
    "col_sums = np.sum(Z, axis=0)\n",
    "array_sum = np.sum(Z)\n",
    "print(\"Row Sums:\")\n",
    "print(row_sums)\n",
    "print(\"Column Sums:\", col_sums)\n",
    "print(\"Array Sum:\", array_sum)"
   ]
  },
  {
   "cell_type": "markdown",
   "metadata": {},
   "source": [
    "## Problem 2: Reshaping and Stacking Arrays"
   ]
  },
  {
   "cell_type": "code",
   "execution_count": 7,
   "metadata": {},
   "outputs": [
    {
     "name": "stdout",
     "output_type": "stream",
     "text": [
      "(1000, 4)\n",
      "[[ 37.08  16.71 138.06   8.89]\n",
      " [ 41.32  19.91  99.61   9.86]\n",
      " [ 63.15  14.43  70.08  11.6 ]\n",
      " ...\n",
      " [ 36.96  16.05  81.28   9.9 ]\n",
      " [ 43.57  18.36 105.02  11.93]\n",
      " [ 65.06  21.47 136.37  11.84]]\n"
     ]
    }
   ],
   "source": [
    "np.random.seed(167)\n",
    "x1 = np.random.normal(50, 10, 1000)  \n",
    "x2 = np.random.normal(20, 5, 1000) \n",
    "x3 = np.random.normal(100, 30, 1000)\n",
    "x4 = np.random.normal(10, 2, 1000)   \n",
    "X = np.hstack([x1.reshape(-1, 1), x2.reshape(-1, 1), x3.reshape(-1, 1), x4.reshape(-1, 1)])\n",
    "X = np.round(X, 2)\n",
    "print(X.shape)"
   ]
  },
  {
   "cell_type": "code",
   "execution_count": 8,
   "metadata": {},
   "outputs": [
    {
     "name": "stdout",
     "output_type": "stream",
     "text": [
      "[[ 37.08  16.71 138.06   8.89]\n",
      " [ 41.32  19.91  99.61   9.86]\n",
      " [ 63.15  14.43  70.08  11.6 ]\n",
      " [ 50.03  12.71  95.05   8.47]\n",
      " [ 55.05  24.4   62.16   9.49]\n",
      " [ 59.24  25.68  64.57  12.84]]\n"
     ]
    }
   ],
   "source": [
    "print(X[:6])"
   ]
  },
  {
   "cell_type": "markdown",
   "metadata": {},
   "source": [
    "# Problem 3: Standardization"
   ]
  },
  {
   "cell_type": "code",
   "execution_count": 14,
   "metadata": {},
   "outputs": [
    {
     "name": "stdout",
     "output_type": "stream",
     "text": [
      "Column means:\n",
      "[50.21 19.86 99.84 10.06]\n",
      "Column standard deviations:\n",
      "[ 9.69  5.08 30.88  2.03]\n"
     ]
    }
   ],
   "source": [
    "col_mean_array = np.mean(X, axis=0)\n",
    "col_std_devs_array = np.std(X, axis=0)\n",
    "print(\"Column means:\")\n",
    "print(np.round(col_mean_array, 2))\n",
    "print(\"Column standard deviations:\")\n",
    "print(np.round(col_std_devs_array, 2))"
   ]
  },
  {
   "cell_type": "code",
   "execution_count": 16,
   "metadata": {},
   "outputs": [
    {
     "name": "stdout",
     "output_type": "stream",
     "text": [
      "Column means:\n",
      "[ 0. -0. -0. -0.]\n",
      "Column standard deviations:\n",
      "[1. 1. 1. 1.]\n"
     ]
    }
   ],
   "source": [
    "W = (X - col_mean_array) / col_std_devs_array\n",
    "W_col_mean = np.mean(W, axis=0)\n",
    "W_col_std_dev = np.std(W, axis=0)\n",
    "print(\"Column means:\")\n",
    "print(np.round(W_col_mean, 2))\n",
    "print(\"Column standard deviations:\")\n",
    "print(np.round(W_col_std_dev, 2))"
   ]
  },
  {
   "cell_type": "code",
   "execution_count": null,
   "metadata": {},
   "outputs": [],
   "source": [
    "auto = pd.DataFrame()"
   ]
  }
 ],
 "metadata": {
  "kernelspec": {
   "display_name": "base",
   "language": "python",
   "name": "python3"
  },
  "language_info": {
   "codemirror_mode": {
    "name": "ipython",
    "version": 3
   },
   "file_extension": ".py",
   "mimetype": "text/x-python",
   "name": "python",
   "nbconvert_exporter": "python",
   "pygments_lexer": "ipython3",
   "version": "3.12.4"
  }
 },
 "nbformat": 4,
 "nbformat_minor": 2
}
