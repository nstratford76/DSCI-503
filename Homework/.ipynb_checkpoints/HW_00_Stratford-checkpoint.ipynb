{
 "cells": [
  {
   "cell_type": "markdown",
   "id": "7e323bce-1e9a-4cd6-b552-6c451c8e1774",
   "metadata": {},
   "source": [
    "## DCSI 503 - HW 00\n",
    "\n",
    "**Nathan Stratford**\n",
    "\n",
    "Due Sunday, 9/01"
   ]
  },
  {
   "cell_type": "markdown",
   "id": "83122cc7-e349-4d36-860d-7ed6c46a7206",
   "metadata": {},
   "source": [
    "### Part 1: Arithmetic Operations\n",
    "\n",
    "In this section of the assignment, we will demonstrate the following concecpts:\n",
    "* Addition\n",
    "* Subtraction\n",
    "* Multiplication\n",
    "* Division\n",
    "* Exponentiation"
   ]
  },
  {
   "cell_type": "code",
   "execution_count": 44,
   "id": "726b1ea8-ac23-4385-b0b0-1b10cdc593b8",
   "metadata": {},
   "outputs": [
    {
     "name": "stdout",
     "output_type": "stream",
     "text": [
      "9\n"
     ]
    }
   ],
   "source": [
    "print(7 + 2)"
   ]
  },
  {
   "cell_type": "code",
   "execution_count": 45,
   "id": "c9b235bc-f9e8-4f0e-a81c-a45094bfac14",
   "metadata": {},
   "outputs": [
    {
     "name": "stdout",
     "output_type": "stream",
     "text": [
      "5\n"
     ]
    }
   ],
   "source": [
    "print (7 - 2)"
   ]
  },
  {
   "cell_type": "code",
   "execution_count": 46,
   "id": "99b77494-425c-4c37-ab46-c38c5f537654",
   "metadata": {},
   "outputs": [
    {
     "name": "stdout",
     "output_type": "stream",
     "text": [
      "14\n"
     ]
    }
   ],
   "source": [
    "print(7 * 2)"
   ]
  },
  {
   "cell_type": "code",
   "execution_count": 47,
   "id": "5253ffbe-e400-4dc9-9740-7e3146c683db",
   "metadata": {},
   "outputs": [
    {
     "name": "stdout",
     "output_type": "stream",
     "text": [
      "3.5\n"
     ]
    }
   ],
   "source": [
    "print(7 / 2)"
   ]
  },
  {
   "cell_type": "code",
   "execution_count": 48,
   "id": "43f3e8f9-0587-41cc-aaa5-ee17f3585abb",
   "metadata": {},
   "outputs": [
    {
     "name": "stdout",
     "output_type": "stream",
     "text": [
      "49\n"
     ]
    }
   ],
   "source": [
    "print( 7 ** 2)"
   ]
  },
  {
   "cell_type": "markdown",
   "id": "60c750ec-4d98-4e2e-acfd-39f33a684cf2",
   "metadata": {},
   "source": [
    "## Part 2: Variables\n",
    "\n",
    "In this section of the assignment, we will demonstrate the following concepts:\n",
    "* Creating variables\n",
    "* Printing the value of variables\n",
    "* Operations with variables\n",
    "* Nonlinear execution in notebooks"
   ]
  },
  {
   "cell_type": "code",
   "execution_count": 50,
   "id": "1b9d9674-22f1-4940-852b-afd25c3c2d43",
   "metadata": {},
   "outputs": [],
   "source": [
    "x = 91"
   ]
  },
  {
   "cell_type": "code",
   "execution_count": 51,
   "id": "fbb471b2-93a2-4721-b4b0-c9b6c2e5041d",
   "metadata": {},
   "outputs": [],
   "source": [
    "x = 42"
   ]
  },
  {
   "cell_type": "code",
   "execution_count": 52,
   "id": "99ed8cd6-4512-4e17-824b-32110aae3643",
   "metadata": {},
   "outputs": [
    {
     "name": "stdout",
     "output_type": "stream",
     "text": [
      "42\n"
     ]
    }
   ],
   "source": [
    "print(x)"
   ]
  },
  {
   "cell_type": "code",
   "execution_count": 53,
   "id": "a9acab5a-d501-49e5-b4e9-687c9d7ecde3",
   "metadata": {},
   "outputs": [],
   "source": [
    "y = 7"
   ]
  },
  {
   "cell_type": "code",
   "execution_count": 54,
   "id": "2088730f-d6b0-4e4d-bca5-84f2623607f7",
   "metadata": {},
   "outputs": [
    {
     "name": "stdout",
     "output_type": "stream",
     "text": [
      "7\n"
     ]
    }
   ],
   "source": [
    "print(y) "
   ]
  },
  {
   "cell_type": "code",
   "execution_count": 55,
   "id": "d014130a-decd-4b20-a94b-e4114abc741a",
   "metadata": {},
   "outputs": [
    {
     "name": "stdout",
     "output_type": "stream",
     "text": [
      "6.0\n"
     ]
    }
   ],
   "source": [
    "print(x / y)"
   ]
  },
  {
   "cell_type": "markdown",
   "id": "67004c93-57d1-4204-8158-e734df661321",
   "metadata": {},
   "source": [
    "### Part 3: Comments\n",
    "\n",
    "In this section of the assignment, we will demonstrate the following concepts:\n",
    "\n",
    "* Writing comments\n",
    "* Using comments to document code\n",
    "* Using comments to disable lines of code\n"
   ]
  },
  {
   "cell_type": "code",
   "execution_count": 57,
   "id": "e6219ba9-ef56-44be-aaa5-e310fc79918d",
   "metadata": {},
   "outputs": [
    {
     "name": "stdout",
     "output_type": "stream",
     "text": [
      "7\n"
     ]
    }
   ],
   "source": [
    "# This is a comment\n",
    "print(2 + 5)"
   ]
  },
  {
   "cell_type": "code",
   "execution_count": 58,
   "id": "bbfee37c-5311-4a93-b8e5-e838d41822f4",
   "metadata": {},
   "outputs": [
    {
     "name": "stdout",
     "output_type": "stream",
     "text": [
      "2937.54\n"
     ]
    }
   ],
   "source": [
    "# In this cell, we will calculate sales revenue.\n",
    "sales = 173               # Monthly widget sales\n",
    "price = 16.98             # Price per widget\n",
    "revenue = sales * price   # Monthly revenue\n",
    "print(revenue)"
   ]
  },
  {
   "cell_type": "code",
   "execution_count": 59,
   "id": "eedd2d72-c679-462d-85ea-4b2b63f0e8cf",
   "metadata": {},
   "outputs": [
    {
     "name": "stdout",
     "output_type": "stream",
     "text": [
      "2.0\n",
      "3.0\n"
     ]
    }
   ],
   "source": [
    "print(12 / 6)\n",
    "# print(12 / 0)\n",
    "print(12 / 4)"
   ]
  },
  {
   "cell_type": "markdown",
   "id": "4469a725-402a-4c33-bdc7-1403d16fa1fe",
   "metadata": {},
   "source": [
    "### Part 4: Strings\n",
    "In this section of the assignment, we will demonstrate the following concepts:\n",
    "* Creating strings\n",
    "* Storing strings in variables\n",
    "* Printing multiple items"
   ]
  },
  {
   "cell_type": "code",
   "execution_count": 61,
   "id": "3faa695a-0b2d-4aa4-b2a1-5605e941feb1",
   "metadata": {},
   "outputs": [
    {
     "name": "stdout",
     "output_type": "stream",
     "text": [
      "Hello world!\n"
     ]
    }
   ],
   "source": [
    "print(\"Hello world!\")"
   ]
  },
  {
   "cell_type": "code",
   "execution_count": 62,
   "id": "59a7defd-a8f8-474e-98e7-f9106f087b64",
   "metadata": {},
   "outputs": [
    {
     "name": "stdout",
     "output_type": "stream",
     "text": [
      "Nathan Stratford\n"
     ]
    }
   ],
   "source": [
    "name = \"Nathan Stratford\"\n",
    "print(name)"
   ]
  },
  {
   "cell_type": "code",
   "execution_count": 63,
   "id": "963820f9-2ea3-4224-8bd0-a1dbf49e4265",
   "metadata": {},
   "outputs": [
    {
     "name": "stdout",
     "output_type": "stream",
     "text": [
      "Hello, my name is Nathan Stratford\n"
     ]
    }
   ],
   "source": [
    "print(\"Hello, my name is\", name)"
   ]
  },
  {
   "cell_type": "code",
   "execution_count": 64,
   "id": "8f48c74f-f8d6-47ab-8ea6-392bbfeac900",
   "metadata": {},
   "outputs": [
    {
     "name": "stdout",
     "output_type": "stream",
     "text": [
      "Hello, my name is Nathan Stratford.\n"
     ]
    }
   ],
   "source": [
    "print(\"Hello, my name is \", name, \".\", sep=\"\")"
   ]
  }
 ],
 "metadata": {
  "kernelspec": {
   "display_name": "Python 3 (ipykernel)",
   "language": "python",
   "name": "python3"
  },
  "language_info": {
   "codemirror_mode": {
    "name": "ipython",
    "version": 3
   },
   "file_extension": ".py",
   "mimetype": "text/x-python",
   "name": "python",
   "nbconvert_exporter": "python",
   "pygments_lexer": "ipython3",
   "version": "3.12.4"
  }
 },
 "nbformat": 4,
 "nbformat_minor": 5
}
